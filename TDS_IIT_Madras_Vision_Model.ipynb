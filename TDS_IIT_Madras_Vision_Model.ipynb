{
  "nbformat": 4,
  "nbformat_minor": 0,
  "metadata": {
    "colab": {
      "provenance": []
    },
    "kernelspec": {
      "name": "python3",
      "display_name": "Python 3"
    },
    "language_info": {
      "name": "python"
    }
  },
  "cells": [
    {
      "cell_type": "markdown",
      "source": [
        "**Using Open AI**"
      ],
      "metadata": {
        "id": "XYTSNtTNZlX8"
      }
    },
    {
      "cell_type": "code",
      "execution_count": 26,
      "metadata": {
        "colab": {
          "base_uri": "https://localhost:8080/"
        },
        "id": "gLAApj868Rfl",
        "outputId": "ec92f39e-1a56-4837-f509-d3928b10fe96"
      },
      "outputs": [
        {
          "output_type": "stream",
          "name": "stdout",
          "text": [
            "The image shows a scenic view of a wooden boardwalk path leading through a lush green field. The sky is bright and blue with scattered clouds, suggesting a sunny day. The surrounding landscape is filled with greenery and low vegetation, creating a serene and natural atmosphere.\n"
          ]
        }
      ],
      "source": [
        "from openai import OpenAI\n",
        "\n",
        "from google.colab import userdata\n",
        "api_key = userdata.get('OPENAI_API_KEY')\n",
        "url = \"https://api.openai.com/v1/chat/completions\"\n",
        "\n",
        "client = OpenAI(api_key=api_key)\n",
        "\n",
        "response = client.chat.completions.create(\n",
        "    model=\"gpt-4o\",\n",
        "    messages=[\n",
        "        {\n",
        "        \"role\": \"user\",\n",
        "        \"content\": [\n",
        "            {\"type\": \"text\", \"text\": \"what's in this image?\"},\n",
        "            {\n",
        "                  \"type\": \"image_url\",\n",
        "                  \"image_url\":\n",
        "                   {\n",
        "                        \"detail\": \"low\",\n",
        "                        \"url\": \"https://upload.wikimedia.org/wikipedia/commons/thumb/d/dd/Gfp-wisconsin-madison-the-nature-boardwalk.jpg/2560px-Gfp-wisconsin-madison-the-nature-boardwalk.jpg\"\n",
        "                    }\n",
        "            },\n",
        "        ],\n",
        "    }],\n",
        ")\n",
        "\n",
        "print(response.choices[0].message.content)"
      ]
    },
    {
      "cell_type": "code",
      "source": [],
      "metadata": {
        "id": "8PcJvxJi-WyR"
      },
      "execution_count": null,
      "outputs": []
    },
    {
      "cell_type": "markdown",
      "source": [
        "**Using Requests from Python**"
      ],
      "metadata": {
        "id": "uvflzESJZquH"
      }
    },
    {
      "cell_type": "code",
      "source": [
        "import requests\n",
        "import json\n",
        "import os\n",
        "from google.colab import userdata\n",
        "api_key = userdata.get('OPENAI_API_KEY')\n",
        "url = \"https://api.openai.com/v1/chat/completions\"\n",
        "\n",
        "headers = {\n",
        "    \"Authorization\": f\"Bearer {api_key}\",\n",
        "    \"Content-Type\": \"application/json\"\n",
        "}\n",
        "\n",
        "data = {\n",
        "    \"model\": \"gpt-4o-mini\",\n",
        "    \"messages\": [\n",
        "        {\n",
        "          \"role\": \"user\",\n",
        "          \"content\": [\n",
        "              {\n",
        "                  \"type\": \"text\",\n",
        "                  \"text\": \"what's in this image?\"\n",
        "              },\n",
        "              {\n",
        "                  \"type\": \"image_url\",\n",
        "                  \"image_url\":\n",
        "                   {\n",
        "                        \"detail\": \"low\",\n",
        "                        \"url\": \"https://upload.wikimedia.org/wikipedia/commons/thumb/d/dd/Gfp-wisconsin-madison-the-nature-boardwalk.jpg/2560px-Gfp-wisconsin-madison-the-nature-boardwalk.jpg\"\n",
        "                    }\n",
        "              }\n",
        "                      ]\n",
        "    }]\n",
        "}\n",
        "response = requests.post(url, headers=headers, json=data)\n",
        "\n",
        "if response.status_code == 200:\n",
        "    print(response.json())\n",
        "\n",
        "else:\n",
        "    print(f\"Error: {response.status_code}\")\n",
        "    print(response.text)\n"
      ],
      "metadata": {
        "colab": {
          "base_uri": "https://localhost:8080/"
        },
        "id": "Y0JcFZZg9I1u",
        "outputId": "9779ad81-9ce0-41d5-c415-ebf5f8cf68cc"
      },
      "execution_count": 13,
      "outputs": [
        {
          "output_type": "stream",
          "name": "stdout",
          "text": [
            "{'id': 'chatcmpl-BsiWhO4xxUtkRKMVkpRAk7FDa5Fpx', 'object': 'chat.completion', 'created': 1752380571, 'model': 'gpt-4o-mini-2024-07-18', 'choices': [{'index': 0, 'message': {'role': 'assistant', 'content': 'The image shows a scenic landscape featuring a wooden pathway winding through lush green grass and surrounding vegetation. The sky is bright with a mix of clouds and blue, suggesting a pleasant day. The overall atmosphere appears serene and inviting, typical of a natural setting.', 'refusal': None, 'annotations': []}, 'logprobs': None, 'finish_reason': 'stop'}], 'usage': {'prompt_tokens': 2846, 'completion_tokens': 50, 'total_tokens': 2896, 'prompt_tokens_details': {'cached_tokens': 0, 'audio_tokens': 0}, 'completion_tokens_details': {'reasoning_tokens': 0, 'audio_tokens': 0, 'accepted_prediction_tokens': 0, 'rejected_prediction_tokens': 0}}, 'service_tier': 'default', 'system_fingerprint': 'fp_62a23a81ef'}\n"
          ]
        }
      ]
    },
    {
      "cell_type": "code",
      "source": [
        "import json\n",
        "\n",
        "if response.status_code == 200:\n",
        "  response_json = response.json()\n",
        "  print(json.dumps(response_json, indent=4))\n",
        "else:\n",
        "  print(f\"Request failed with status code : {response.status_code}\")\n",
        "  print(response.text)"
      ],
      "metadata": {
        "colab": {
          "base_uri": "https://localhost:8080/"
        },
        "id": "yDtl0LGEVFUU",
        "outputId": "5869e8f4-941f-4883-889f-c9359f2fa37e"
      },
      "execution_count": 14,
      "outputs": [
        {
          "output_type": "stream",
          "name": "stdout",
          "text": [
            "{\n",
            "    \"id\": \"chatcmpl-BsiWhO4xxUtkRKMVkpRAk7FDa5Fpx\",\n",
            "    \"object\": \"chat.completion\",\n",
            "    \"created\": 1752380571,\n",
            "    \"model\": \"gpt-4o-mini-2024-07-18\",\n",
            "    \"choices\": [\n",
            "        {\n",
            "            \"index\": 0,\n",
            "            \"message\": {\n",
            "                \"role\": \"assistant\",\n",
            "                \"content\": \"The image shows a scenic landscape featuring a wooden pathway winding through lush green grass and surrounding vegetation. The sky is bright with a mix of clouds and blue, suggesting a pleasant day. The overall atmosphere appears serene and inviting, typical of a natural setting.\",\n",
            "                \"refusal\": null,\n",
            "                \"annotations\": []\n",
            "            },\n",
            "            \"logprobs\": null,\n",
            "            \"finish_reason\": \"stop\"\n",
            "        }\n",
            "    ],\n",
            "    \"usage\": {\n",
            "        \"prompt_tokens\": 2846,\n",
            "        \"completion_tokens\": 50,\n",
            "        \"total_tokens\": 2896,\n",
            "        \"prompt_tokens_details\": {\n",
            "            \"cached_tokens\": 0,\n",
            "            \"audio_tokens\": 0\n",
            "        },\n",
            "        \"completion_tokens_details\": {\n",
            "            \"reasoning_tokens\": 0,\n",
            "            \"audio_tokens\": 0,\n",
            "            \"accepted_prediction_tokens\": 0,\n",
            "            \"rejected_prediction_tokens\": 0\n",
            "        }\n",
            "    },\n",
            "    \"service_tier\": \"default\",\n",
            "    \"system_fingerprint\": \"fp_62a23a81ef\"\n",
            "}\n"
          ]
        }
      ]
    },
    {
      "cell_type": "markdown",
      "source": [
        "### **To extract imformation from a table**"
      ],
      "metadata": {
        "id": "wWQ2D5uLgfLs"
      }
    },
    {
      "cell_type": "code",
      "source": [
        "import base64\n",
        "import requests\n",
        "import os\n",
        "from google.colab import userdata\n",
        "import json\n",
        "\n",
        "api_key = userdata.get('OPENAI_API_KEY')\n",
        "\n",
        "headers = {\n",
        "    \"Authorization\": f\"Bearer {api_key}\",\n",
        "    \"Content-Type\": \"application/json\"\n",
        "}\n",
        "\n",
        "with open('bank-statement.webp', 'rb') as image_file:\n",
        "  image_data = image_file.read()\n",
        "\n",
        "base64_image= base64.b64encode(image_data).decode('utf-8')\n",
        "\n",
        "data = {\n",
        "    \"model\":\"gpt-4o-mini\",\n",
        "    \"messages\" : [\n",
        "        {\n",
        "         \"role\":\"user\",\n",
        "         \"content\" : [\n",
        "             {\"type\": \"text\",\n",
        "              \"text\": \"Extract the table of information from this image as a Markdown tab;e\"\n",
        "              },\n",
        "             {\n",
        "                 \"type\": \"image_url\",\n",
        "                 \"image_url\":{\n",
        "                     \"details\":\"low\",\n",
        "                     \"url\": f\"data:image/jpeg;base64,{base64_image}\"\n",
        "                 }\n",
        "             }\n",
        "         ]\n",
        "        }\n",
        "    ]\n",
        "}\n",
        "\n",
        "response = requests.post(\"https://api.openai.com/v1/chat/completions\", headers=headers, json = data)\n",
        "if response.status_code==200:\n",
        "  print(response.json())\n",
        "else:\n",
        "  print(f\"Request failed with status code :{response.status_code}\")\n",
        "  print(response.text)\n",
        "\n",
        "if response.status_code == 200:\n",
        "  response_json = response.json()\n",
        "  print(response_json[\"choices\"][0][\"message\"][\"content\"])\n",
        "else:\n",
        "  print(f\"Request failed with status code : {response.status_code}\")\n",
        "  print(response.text)"
      ],
      "metadata": {
        "colab": {
          "base_uri": "https://localhost:8080/"
        },
        "id": "PBBKjlNYVecp",
        "outputId": "76275849-c77d-4ba2-e55f-a86be060741e"
      },
      "execution_count": 28,
      "outputs": [
        {
          "output_type": "stream",
          "name": "stdout",
          "text": [
            "{'id': 'chatcmpl-BskdlDqpuWqEfy5DVqv2Eq55053iz', 'object': 'chat.completion', 'created': 1752388697, 'model': 'gpt-4o-mini-2024-07-18', 'choices': [{'index': 0, 'message': {'role': 'assistant', 'content': 'Here is the extracted table of information in Markdown format:\\n\\n```markdown\\n| Date       | Transaction                             | Debit     | Credit    | Balance      |\\n|------------|-----------------------------------------|-----------|-----------|--------------|\\n| 01 Jul     | 2018 OPENING BALANCE                   | $1,384.89 |           |              |\\n| 01 Jul     | DEBIT INTEREST CHARGED ON THIS ACCOUNT | $0.11     |           |              |\\n| 02 Jul     | Transfer to another Bank NetBank        |           | $1,012.89 | $372.00      |\\n|            | Rob Ubank Transfer                      |           |           | $1,384.89 CR |\\n| 02 Jul     | Transfer from MCKAY MJ                 | $43.80    |           | $1,341.09 CR |\\n|            | Mickay McKay - Neck heckles            |           |           |              |\\n| 02 Jul     | Direct Debit 001015 COLONIAL MUTUAL    |           | $1,031.03 | $1,341.09 CR |\\n|            | 120108846277241                        |           |           |              |\\n|            | Loan Repayment                          |           |           |              |\\n|            | IN REPAY/9642599331                     |           |           |              |\\n| 03 Jul     | PETSTOCK HEATHMONT P HEATHMONT AUS     | $32.99    |           | $718.70 CR   |\\n|            | Card x2541                             |           |           |              |\\n|            | Value Date: 01/07/2018                 |           |           |              |\\n| 03 Jul     | WOOLWORTHS 3149 EASTLA RINGWOOD AUS    | $126.32   |           | $584.41 CR   |\\n|            | Card x2541                             |           |           |              |\\n|            | Value Date: 01/07/2018                 |           |           |              |\\n| 03 Jul     | HEATHMONT IGA HEATHMONT AUS            | $554.41   |           | $29.82 CR    |\\n|            | Card x2541                             |           |           |              |\\n|            | Value Date: 01/07/2018                 |           |           |              |\\n| 03 Jul     | POST HEATHMONT LPOHE HEATHMONT CA AUS  | $47.57    |           | $506.87 CR   |\\n|            | Card x2541                             |           |           |              |\\n|            | Value Date: 30/06/2018                 |           |           |              |\\n| 03 Jul     | FIVE STAR MUSIC PL RINGWOOD VIC AUS    | $50.00    |           | $456.87 CR   |\\n|            | Card x2541                             |           |           |              |\\n|            | Value Date: 28/06/2018                 |           |           |              |\\n| 03 Jul     | POST HEATHMONT LPOHE HEATHMONT CA AUS  | $55.65    |           | $401.22 CR   |\\n|            | Card x2541                             |           |           |              |\\n|            | Value Date: 28/06/2018                 |           |           |              |\\n```\\n\\nFeel free to modify it as needed!', 'refusal': None, 'annotations': []}, 'logprobs': None, 'finish_reason': 'stop'}], 'usage': {'prompt_tokens': 25521, 'completion_tokens': 718, 'total_tokens': 26239, 'prompt_tokens_details': {'cached_tokens': 0, 'audio_tokens': 0}, 'completion_tokens_details': {'reasoning_tokens': 0, 'audio_tokens': 0, 'accepted_prediction_tokens': 0, 'rejected_prediction_tokens': 0}}, 'service_tier': 'default', 'system_fingerprint': 'fp_62a23a81ef'}\n",
            "Here is the extracted table of information in Markdown format:\n",
            "\n",
            "```markdown\n",
            "| Date       | Transaction                             | Debit     | Credit    | Balance      |\n",
            "|------------|-----------------------------------------|-----------|-----------|--------------|\n",
            "| 01 Jul     | 2018 OPENING BALANCE                   | $1,384.89 |           |              |\n",
            "| 01 Jul     | DEBIT INTEREST CHARGED ON THIS ACCOUNT | $0.11     |           |              |\n",
            "| 02 Jul     | Transfer to another Bank NetBank        |           | $1,012.89 | $372.00      |\n",
            "|            | Rob Ubank Transfer                      |           |           | $1,384.89 CR |\n",
            "| 02 Jul     | Transfer from MCKAY MJ                 | $43.80    |           | $1,341.09 CR |\n",
            "|            | Mickay McKay - Neck heckles            |           |           |              |\n",
            "| 02 Jul     | Direct Debit 001015 COLONIAL MUTUAL    |           | $1,031.03 | $1,341.09 CR |\n",
            "|            | 120108846277241                        |           |           |              |\n",
            "|            | Loan Repayment                          |           |           |              |\n",
            "|            | IN REPAY/9642599331                     |           |           |              |\n",
            "| 03 Jul     | PETSTOCK HEATHMONT P HEATHMONT AUS     | $32.99    |           | $718.70 CR   |\n",
            "|            | Card x2541                             |           |           |              |\n",
            "|            | Value Date: 01/07/2018                 |           |           |              |\n",
            "| 03 Jul     | WOOLWORTHS 3149 EASTLA RINGWOOD AUS    | $126.32   |           | $584.41 CR   |\n",
            "|            | Card x2541                             |           |           |              |\n",
            "|            | Value Date: 01/07/2018                 |           |           |              |\n",
            "| 03 Jul     | HEATHMONT IGA HEATHMONT AUS            | $554.41   |           | $29.82 CR    |\n",
            "|            | Card x2541                             |           |           |              |\n",
            "|            | Value Date: 01/07/2018                 |           |           |              |\n",
            "| 03 Jul     | POST HEATHMONT LPOHE HEATHMONT CA AUS  | $47.57    |           | $506.87 CR   |\n",
            "|            | Card x2541                             |           |           |              |\n",
            "|            | Value Date: 30/06/2018                 |           |           |              |\n",
            "| 03 Jul     | FIVE STAR MUSIC PL RINGWOOD VIC AUS    | $50.00    |           | $456.87 CR   |\n",
            "|            | Card x2541                             |           |           |              |\n",
            "|            | Value Date: 28/06/2018                 |           |           |              |\n",
            "| 03 Jul     | POST HEATHMONT LPOHE HEATHMONT CA AUS  | $55.65    |           | $401.22 CR   |\n",
            "|            | Card x2541                             |           |           |              |\n",
            "|            | Value Date: 28/06/2018                 |           |           |              |\n",
            "```\n",
            "\n",
            "Feel free to modify it as needed!\n"
          ]
        }
      ]
    }
  ]
}